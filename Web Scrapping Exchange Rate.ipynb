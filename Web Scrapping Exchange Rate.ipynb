{
 "cells": [
  {
   "cell_type": "markdown",
   "metadata": {},
   "source": [
    "# Capstone Webscrapping using BeautifulSoup\n",
    "\n",
    "I scrap the historical exchange rates between the Singapore Dollar (SGD) and the US Dollar (USD) between 9/4/2020 and 3/3/2021\n",
    "\n",
    "\n",
    "\n",
    "## Requesting the Data and Creating a BeautifulSoup\n",
    "\n",
    "Let's begin with requesting the web from the site with `get` method."
   ]
  },
  {
   "cell_type": "code",
   "execution_count": 2,
   "metadata": {
    "ExecuteTime": {
     "end_time": "2020-01-13T05:12:23.275508Z",
     "start_time": "2020-01-13T05:12:20.009898Z"
    }
   },
   "outputs": [],
   "source": [
    "import requests\n",
    "\n",
    "url_get = requests.get('https://www.exchange-rates.org/history/SGD/USD/T')"
   ]
  },
  {
   "cell_type": "markdown",
   "metadata": {},
   "source": [
    "To visualize what exactly you get from the `request.get`, I use .content to see what I get, in here I slice it so it won't make our screen full of the html we get from the page. You can delete the slicing if you want to see what we fully get."
   ]
  },
  {
   "cell_type": "code",
   "execution_count": 3,
   "metadata": {
    "ExecuteTime": {
     "end_time": "2020-01-13T05:12:23.290648Z",
     "start_time": "2020-01-13T05:12:23.277650Z"
    }
   },
   "outputs": [
    {
     "data": {
      "text/plain": [
       "b'\\n<!DOCTYPE html>\\r\\n<!--[if lt IE 9]>\\r\\n    <html class=\"no-js ie8 oldie\" lang=\\'en\\' xml:lang=\\'en\\'>\\r\\n<![endif]-->\\r\\n<!--[if gt IE 8]><!--> <html class=\"no-js\" lang=\\'en\\' xml:lang=\\'en\\'> <!--<![endif]-->\\r\\n<head><title>Singapore Dollar Exchange Rate - US Dollar - Historical Exchange Rates</title><!-- Quantcast Choice. Consent Manager Tag v2.0 (for TCF 2.0) -->\\r\\n<script type=\"text/javascript\" async=true>\\r\\n(function() {\\r\\n  var host = window.location.hostname;\\r\\n  var element = document.createElement(\\'script\\');\\r\\n  var firstScript = document.getElementsByTagName(\\'script\\')[0];\\r\\n  var url = \\'https://quantcast.mgr.consensu.org\\'\\r\\n    .concat(\\'/choice/\\', \\'8V5d7LJYEMQpZ\\', \\'/\\', host, \\'/choice.js\\')\\r\\n  var uspTries = 0;\\r\\n  var uspTriesLimit = 3;\\r\\n  element.async = true;\\r\\n  element.type = '"
      ]
     },
     "execution_count": 3,
     "metadata": {},
     "output_type": "execute_result"
    }
   ],
   "source": [
    "url_get.content[1:777]"
   ]
  },
  {
   "cell_type": "markdown",
   "metadata": {},
   "source": [
    "As we can see we get a very unstructured and complex html, which actually contains the codes needed to show the webpages on your web browser. I use Beautiful soup class which will result a beautifulsoup object. Beautiful Soup transforms a complex HTML document into a complex tree of Python objects. "
   ]
  },
  {
   "cell_type": "code",
   "execution_count": 4,
   "metadata": {
    "ExecuteTime": {
     "end_time": "2020-01-13T05:12:23.808122Z",
     "start_time": "2020-01-13T05:12:23.292610Z"
    }
   },
   "outputs": [
    {
     "name": "stdout",
     "output_type": "stream",
     "text": [
      "<class 'bs4.BeautifulSoup'>\n"
     ]
    }
   ],
   "source": [
    "from bs4 import BeautifulSoup \n",
    "\n",
    "soup = BeautifulSoup(url_get.content,\"html.parser\")\n",
    "print(type(soup))"
   ]
  },
  {
   "cell_type": "code",
   "execution_count": 5,
   "metadata": {},
   "outputs": [
    {
     "name": "stdout",
     "output_type": "stream",
     "text": [
      "<!DOCTYPE html>\n",
      "<!--[if lt IE 9]>\r\n",
      "    <html class=\"no-js ie8 oldie\" lang='en' xml:lang='en'>\r\n",
      "<![endif]-->\n",
      "<!--[if gt IE 8]><!-->\n",
      "<html class=\"no-js\" lang=\"en\" xml:lang=\"en\">\n",
      " <!--<![endif]-->\n",
      " <head>\n",
      "  <title>\n",
      "   Singapore Dollar Exchange Rate - US Dollar - Historical Exchange Rates\n",
      "  </title>\n",
      "  <!-- Quantcast Choice. Consent Manager Tag v2.0 (for TCF 2.0) -->\n",
      "  <script async=\"true\" type=\"text/javascript\">\n",
      "   (function() {\r\n",
      "  var host = window.location.hostname;\r\n",
      "  var element = document.createElement('script');\r\n",
      "  var firstScript = document.getElementsByTagName('script')[0];\r\n",
      "  var url = 'https://quantcast.mgr.consensu.org'\r\n",
      "    .concat('/choice/', '8V5d7LJYEMQpZ', '/', host, '/choice.js')\r\n",
      "  var uspTries = 0;\r\n",
      "  var uspTriesLimit = 3;\r\n",
      "  element.async = true;\r\n",
      "  element.type = 'text/javascript';\r\n",
      "  element.src = url;\r\n",
      "\r\n",
      "  firstScript.parentNode.insertBefore(element, firstScript);\r\n",
      "\r\n",
      "  function makeStub() {\r\n",
      "    var TCF_LOCATOR_NAME = '__tcfapiLocator';\r\n",
      "    var queue = [];\r\n",
      "    var win = window;\r\n",
      "    var cmpFrame;\r\n",
      "\r\n",
      "    func\n"
     ]
    }
   ],
   "source": [
    "print(soup.prettify()[:1045])"
   ]
  },
  {
   "cell_type": "code",
   "execution_count": 6,
   "metadata": {
    "scrolled": true
   },
   "outputs": [
    {
     "name": "stdout",
     "output_type": "stream",
     "text": [
      "table class=\"table table-striped table-hover table-hover-solid-row table-simple history-data\">\n",
      " <tbody>\n",
      "  <tr>\n",
      "   <td>\n",
      "    3/17/2021\n",
      "   </td>\n",
      "   <td>\n",
      "    Wednesday\n",
      "   </td>\n",
      "   <td>\n",
      "    <a href=\"/Rate/USD/SGD/3-17-2021\">\n",
      "     1.34027\n",
      "    </a>\n",
      "    SGD\n",
      "   </td>\n",
      "   <td class=\"text-narrow-screen-hidden\">\n",
      "    <a href=\"/Rate/USD/SGD/3-17-2021\">\n",
      "     USD SGD rate for 3/17/2021\n",
      "    </a>\n",
      "   </td>\n",
      "  </tr>\n",
      "  <tr>\n",
      "   <td>\n",
      "    3/16/2021\n",
      "   </td>\n",
      "   <td>\n",
      "    Tuesday\n",
      "   </td>\n",
      "   <td>\n",
      "    <a href=\"/Rate/USD/SGD/3-16-2021\">\n",
      "     1.34522\n",
      "    </a>\n",
      "    SGD\n",
      "   </td>\n",
      "   <td class=\"text-narrow-screen-hidden\">\n",
      "    <a href=\"/Rate/USD/SGD/3-16-2021\">\n",
      "     USD SGD rate for 3/16/2021\n",
      "    </a>\n",
      "   </td>\n",
      "  </tr>\n",
      "  <tr>\n",
      "   <td>\n",
      "    3/15/2021\n",
      "   </td>\n",
      "   <td>\n",
      "    Monday\n",
      "   </td>\n",
      "   <td>\n",
      "    <a href=\"/Rate/USD/SGD/3-15-2021\">\n",
      "     1.34602\n",
      "    </a>\n",
      "    SGD\n",
      "   </td>\n",
      "   <td class=\"text-narrow-screen-hidden\">\n",
      "    <a href=\"/Rate/USD/SGD/3-15-2021\">\n",
      "     USD SGD rate for 3/15/2021\n",
      "    </a>\n",
      "   </td>\n",
      "  </tr>\n",
      "  <tr>\n",
      "   <td>\n",
      "   \n"
     ]
    }
   ],
   "source": [
    "table = soup.find('table', attrs={'class':'table table-striped table-hover table-hover-solid-row table-simple history-data'})\n",
    "print(table.prettify()[1:1000])"
   ]
  },
  {
   "cell_type": "code",
   "execution_count": 7,
   "metadata": {},
   "outputs": [
    {
     "data": {
      "text/plain": [
       "[<tr><td>3/17/2021</td><td>Wednesday</td><td><a href=\"/Rate/USD/SGD/3-17-2021\">1.34027</a> SGD</td><td class=\"text-narrow-screen-hidden\"><a href=\"/Rate/USD/SGD/3-17-2021\">USD SGD rate for 3/17/2021</a></td></tr>,\n",
       " <tr><td>3/16/2021</td><td>Tuesday</td><td><a href=\"/Rate/USD/SGD/3-16-2021\">1.34522</a> SGD</td><td class=\"text-narrow-screen-hidden\"><a href=\"/Rate/USD/SGD/3-16-2021\">USD SGD rate for 3/16/2021</a></td></tr>,\n",
       " <tr><td>3/15/2021</td><td>Monday</td><td><a href=\"/Rate/USD/SGD/3-15-2021\">1.34602</a> SGD</td><td class=\"text-narrow-screen-hidden\"><a href=\"/Rate/USD/SGD/3-15-2021\">USD SGD rate for 3/15/2021</a></td></tr>,\n",
       " <tr><td>3/12/2021</td><td>Friday</td><td><a href=\"/Rate/USD/SGD/3-12-2021\">1.34493</a> SGD</td><td class=\"text-narrow-screen-hidden\"><a href=\"/Rate/USD/SGD/3-12-2021\">USD SGD rate for 3/12/2021</a></td></tr>,\n",
       " <tr><td>3/11/2021</td><td>Thursday</td><td><a href=\"/Rate/USD/SGD/3-11-2021\">1.33970</a> SGD</td><td class=\"text-narrow-screen-hidden\"><a href=\"/Rate/USD/SGD/3-11-2021\">USD SGD rate for 3/11/2021</a></td></tr>,\n",
       " <tr><td>3/10/2021</td><td>Wednesday</td><td><a href=\"/Rate/USD/SGD/3-10-2021\">1.34321</a> SGD</td><td class=\"text-narrow-screen-hidden\"><a href=\"/Rate/USD/SGD/3-10-2021\">USD SGD rate for 3/10/2021</a></td></tr>,\n",
       " <tr><td>3/9/2021</td><td>Tuesday</td><td><a href=\"/Rate/USD/SGD/3-9-2021\">1.34260</a> SGD</td><td class=\"text-narrow-screen-hidden\"><a href=\"/Rate/USD/SGD/3-9-2021\">USD SGD rate for 3/9/2021</a></td></tr>,\n",
       " <tr><td>3/8/2021</td><td>Monday</td><td><a href=\"/Rate/USD/SGD/3-8-2021\">1.35049</a> SGD</td><td class=\"text-narrow-screen-hidden\"><a href=\"/Rate/USD/SGD/3-8-2021\">USD SGD rate for 3/8/2021</a></td></tr>,\n",
       " <tr><td>3/5/2021</td><td>Friday</td><td><a href=\"/Rate/USD/SGD/3-5-2021\">1.34219</a> SGD</td><td class=\"text-narrow-screen-hidden\"><a href=\"/Rate/USD/SGD/3-5-2021\">USD SGD rate for 3/5/2021</a></td></tr>,\n",
       " <tr><td>3/4/2021</td><td>Thursday</td><td><a href=\"/Rate/USD/SGD/3-4-2021\">1.33714</a> SGD</td><td class=\"text-narrow-screen-hidden\"><a href=\"/Rate/USD/SGD/3-4-2021\">USD SGD rate for 3/4/2021</a></td></tr>,\n",
       " <tr><td>3/3/2021</td><td>Wednesday</td><td><a href=\"/Rate/USD/SGD/3-3-2021\">1.33223</a> SGD</td><td class=\"text-narrow-screen-hidden\"><a href=\"/Rate/USD/SGD/3-3-2021\">USD SGD rate for 3/3/2021</a></td></tr>,\n",
       " <tr><td>3/2/2021</td><td>Tuesday</td><td><a href=\"/Rate/USD/SGD/3-2-2021\">1.32946</a> SGD</td><td class=\"text-narrow-screen-hidden\"><a href=\"/Rate/USD/SGD/3-2-2021\">USD SGD rate for 3/2/2021</a></td></tr>,\n",
       " <tr class=\"inline-grid-ad-row first\"><td class=\"inline-grid-ad-cell first\" colspan=\"4\"><div class=\"google-wrap\">\n",
       " <style type=\"text/css\">\n",
       "     @media (min-width:770px)  { .inline-grid-ad-row { display: none; } }\n",
       "     table tr.inline-grid-ad-row > td:first-child,\n",
       "     table tr.inline-grid-ad-row:hover > td:first-child { background-color: #f9f9f9 !important; }\n",
       "   </style>\n",
       " <div class=\"_ap_apex_ad\" id=\"1b89b15f-48e9-4d38-a83b-795779503b7e\">\n",
       " <script>\n",
       "             if (window.innerWidth < 770) {\n",
       " \t\tvar adpushup = window.adpushup  = window.adpushup || {que:[]};\n",
       " \t\tadpushup.que.push(function() {\n",
       " \t\t\tadpushup.triggerAd(\"1b89b15f-48e9-4d38-a83b-795779503b7e\");\n",
       " \t\t});\n",
       "             }\n",
       " \t</script>\n",
       " </div>\n",
       " </div>\n",
       " </td></tr>,\n",
       " <tr><td>3/1/2021</td><td>Monday</td><td><a href=\"/Rate/USD/SGD/3-1-2021\">1.32724</a> SGD</td><td class=\"text-narrow-screen-hidden\"><a href=\"/Rate/USD/SGD/3-1-2021\">USD SGD rate for 3/1/2021</a></td></tr>,\n",
       " <tr><td>2/26/2021</td><td>Friday</td><td><a href=\"/Rate/USD/SGD/2-26-2021\">1.33329</a> SGD</td><td class=\"text-narrow-screen-hidden\"><a href=\"/Rate/USD/SGD/2-26-2021\">USD SGD rate for 2/26/2021</a></td></tr>,\n",
       " <tr><td>2/25/2021</td><td>Thursday</td><td><a href=\"/Rate/USD/SGD/2-25-2021\">1.32504</a> SGD</td><td class=\"text-narrow-screen-hidden\"><a href=\"/Rate/USD/SGD/2-25-2021\">USD SGD rate for 2/25/2021</a></td></tr>,\n",
       " <tr><td>2/24/2021</td><td>Wednesday</td><td><a href=\"/Rate/USD/SGD/2-24-2021\">1.31915</a> SGD</td><td class=\"text-narrow-screen-hidden\"><a href=\"/Rate/USD/SGD/2-24-2021\">USD SGD rate for 2/24/2021</a></td></tr>,\n",
       " <tr><td>2/23/2021</td><td>Tuesday</td><td><a href=\"/Rate/USD/SGD/2-23-2021\">1.31995</a> SGD</td><td class=\"text-narrow-screen-hidden\"><a href=\"/Rate/USD/SGD/2-23-2021\">USD SGD rate for 2/23/2021</a></td></tr>,\n",
       " <tr><td>2/22/2021</td><td>Monday</td><td><a href=\"/Rate/USD/SGD/2-22-2021\">1.32144</a> SGD</td><td class=\"text-narrow-screen-hidden\"><a href=\"/Rate/USD/SGD/2-22-2021\">USD SGD rate for 2/22/2021</a></td></tr>,\n",
       " <tr><td>2/19/2021</td><td>Friday</td><td><a href=\"/Rate/USD/SGD/2-19-2021\">1.32374</a> SGD</td><td class=\"text-narrow-screen-hidden\"><a href=\"/Rate/USD/SGD/2-19-2021\">USD SGD rate for 2/19/2021</a></td></tr>,\n",
       " <tr><td>2/18/2021</td><td>Thursday</td><td><a href=\"/Rate/USD/SGD/2-18-2021\">1.32681</a> SGD</td><td class=\"text-narrow-screen-hidden\"><a href=\"/Rate/USD/SGD/2-18-2021\">USD SGD rate for 2/18/2021</a></td></tr>,\n",
       " <tr><td>2/17/2021</td><td>Wednesday</td><td><a href=\"/Rate/USD/SGD/2-17-2021\">1.32880</a> SGD</td><td class=\"text-narrow-screen-hidden\"><a href=\"/Rate/USD/SGD/2-17-2021\">USD SGD rate for 2/17/2021</a></td></tr>,\n",
       " <tr><td>2/16/2021</td><td>Tuesday</td><td><a href=\"/Rate/USD/SGD/2-16-2021\">1.32752</a> SGD</td><td class=\"text-narrow-screen-hidden\"><a href=\"/Rate/USD/SGD/2-16-2021\">USD SGD rate for 2/16/2021</a></td></tr>,\n",
       " <tr><td>2/15/2021</td><td>Monday</td><td><a href=\"/Rate/USD/SGD/2-15-2021\">1.32287</a> SGD</td><td class=\"text-narrow-screen-hidden\"><a href=\"/Rate/USD/SGD/2-15-2021\">USD SGD rate for 2/15/2021</a></td></tr>,\n",
       " <tr><td>2/12/2021</td><td>Friday</td><td><a href=\"/Rate/USD/SGD/2-12-2021\">1.32517</a> SGD</td><td class=\"text-narrow-screen-hidden\"><a href=\"/Rate/USD/SGD/2-12-2021\">USD SGD rate for 2/12/2021</a></td></tr>,\n",
       " <tr><td>2/11/2021</td><td>Thursday</td><td><a href=\"/Rate/USD/SGD/2-11-2021\">1.32431</a> SGD</td><td class=\"text-narrow-screen-hidden\"><a href=\"/Rate/USD/SGD/2-11-2021\">USD SGD rate for 2/11/2021</a></td></tr>,\n",
       " <tr><td>2/10/2021</td><td>Wednesday</td><td><a href=\"/Rate/USD/SGD/2-10-2021\">1.32614</a> SGD</td><td class=\"text-narrow-screen-hidden\"><a href=\"/Rate/USD/SGD/2-10-2021\">USD SGD rate for 2/10/2021</a></td></tr>,\n",
       " <tr><td>2/9/2021</td><td>Tuesday</td><td><a href=\"/Rate/USD/SGD/2-9-2021\">1.32647</a> SGD</td><td class=\"text-narrow-screen-hidden\"><a href=\"/Rate/USD/SGD/2-9-2021\">USD SGD rate for 2/9/2021</a></td></tr>,\n",
       " <tr><td>2/8/2021</td><td>Monday</td><td><a href=\"/Rate/USD/SGD/2-8-2021\">1.33273</a> SGD</td><td class=\"text-narrow-screen-hidden\"><a href=\"/Rate/USD/SGD/2-8-2021\">USD SGD rate for 2/8/2021</a></td></tr>,\n",
       " <tr><td>2/5/2021</td><td>Friday</td><td><a href=\"/Rate/USD/SGD/2-5-2021\">1.33409</a> SGD</td><td class=\"text-narrow-screen-hidden\"><a href=\"/Rate/USD/SGD/2-5-2021\">USD SGD rate for 2/5/2021</a></td></tr>,\n",
       " <tr><td>2/4/2021</td><td>Thursday</td><td><a href=\"/Rate/USD/SGD/2-4-2021\">1.33699</a> SGD</td><td class=\"text-narrow-screen-hidden\"><a href=\"/Rate/USD/SGD/2-4-2021\">USD SGD rate for 2/4/2021</a></td></tr>,\n",
       " <tr><td>2/3/2021</td><td>Wednesday</td><td><a href=\"/Rate/USD/SGD/2-3-2021\">1.33329</a> SGD</td><td class=\"text-narrow-screen-hidden\"><a href=\"/Rate/USD/SGD/2-3-2021\">USD SGD rate for 2/3/2021</a></td></tr>,\n",
       " <tr><td>2/2/2021</td><td>Tuesday</td><td><a href=\"/Rate/USD/SGD/2-2-2021\">1.33191</a> SGD</td><td class=\"text-narrow-screen-hidden\"><a href=\"/Rate/USD/SGD/2-2-2021\">USD SGD rate for 2/2/2021</a></td></tr>,\n",
       " <tr><td>2/1/2021</td><td>Monday</td><td><a href=\"/Rate/USD/SGD/2-1-2021\">1.33204</a> SGD</td><td class=\"text-narrow-screen-hidden\"><a href=\"/Rate/USD/SGD/2-1-2021\">USD SGD rate for 2/1/2021</a></td></tr>,\n",
       " <tr><td>1/29/2021</td><td>Friday</td><td><a href=\"/Rate/USD/SGD/1-29-2021\">1.32877</a> SGD</td><td class=\"text-narrow-screen-hidden\"><a href=\"/Rate/USD/SGD/1-29-2021\">USD SGD rate for 1/29/2021</a></td></tr>,\n",
       " <tr><td>1/28/2021</td><td>Thursday</td><td><a href=\"/Rate/USD/SGD/1-28-2021\">1.32890</a> SGD</td><td class=\"text-narrow-screen-hidden\"><a href=\"/Rate/USD/SGD/1-28-2021\">USD SGD rate for 1/28/2021</a></td></tr>,\n",
       " <tr class=\"inline-grid-ad-row second\"><td class=\"inline-grid-ad-cell second\" colspan=\"4\"><div class=\"google-wrap\">\n",
       " <style type=\"text/css\">\n",
       "     @media (min-width:770px)  { .inline-grid-ad-row { display: none; } }\n",
       "     table tr.inline-grid-ad-row > td:first-child,\n",
       "     table tr.inline-grid-ad-row:hover > td:first-child { background-color: #f9f9f9 !important; }\n",
       "   </style>\n",
       " <div class=\"_ap_apex_ad\" id=\"fb283901-892c-4c7c-83c8-80ed9db9ade1\">\n",
       " <script>\n",
       "             if (window.innerWidth < 770) {\n",
       " \t\tvar adpushup = window.adpushup  = window.adpushup || {que:[]};\n",
       " \t\tadpushup.que.push(function() {\n",
       " \t\t\tadpushup.triggerAd(\"fb283901-892c-4c7c-83c8-80ed9db9ade1\");\n",
       " \t\t});\n",
       "             }\n",
       " \t</script>\n",
       " </div>\n",
       " </div>\n",
       " </td></tr>,\n",
       " <tr><td>1/27/2021</td><td>Wednesday</td><td><a href=\"/Rate/USD/SGD/1-27-2021\">1.33040</a> SGD</td><td class=\"text-narrow-screen-hidden\"><a href=\"/Rate/USD/SGD/1-27-2021\">USD SGD rate for 1/27/2021</a></td></tr>,\n",
       " <tr><td>1/26/2021</td><td>Tuesday</td><td><a href=\"/Rate/USD/SGD/1-26-2021\">1.32483</a> SGD</td><td class=\"text-narrow-screen-hidden\"><a href=\"/Rate/USD/SGD/1-26-2021\">USD SGD rate for 1/26/2021</a></td></tr>,\n",
       " <tr><td>1/25/2021</td><td>Monday</td><td><a href=\"/Rate/USD/SGD/1-25-2021\">1.32738</a> SGD</td><td class=\"text-narrow-screen-hidden\"><a href=\"/Rate/USD/SGD/1-25-2021\">USD SGD rate for 1/25/2021</a></td></tr>,\n",
       " <tr><td>1/22/2021</td><td>Friday</td><td><a href=\"/Rate/USD/SGD/1-22-2021\">1.32908</a> SGD</td><td class=\"text-narrow-screen-hidden\"><a href=\"/Rate/USD/SGD/1-22-2021\">USD SGD rate for 1/22/2021</a></td></tr>,\n",
       " <tr><td>1/21/2021</td><td>Thursday</td><td><a href=\"/Rate/USD/SGD/1-21-2021\">1.32271</a> SGD</td><td class=\"text-narrow-screen-hidden\"><a href=\"/Rate/USD/SGD/1-21-2021\">USD SGD rate for 1/21/2021</a></td></tr>,\n",
       " <tr><td>1/20/2021</td><td>Wednesday</td><td><a href=\"/Rate/USD/SGD/1-20-2021\">1.32498</a> SGD</td><td class=\"text-narrow-screen-hidden\"><a href=\"/Rate/USD/SGD/1-20-2021\">USD SGD rate for 1/20/2021</a></td></tr>,\n",
       " <tr><td>1/19/2021</td><td>Tuesday</td><td><a href=\"/Rate/USD/SGD/1-19-2021\">1.32872</a> SGD</td><td class=\"text-narrow-screen-hidden\"><a href=\"/Rate/USD/SGD/1-19-2021\">USD SGD rate for 1/19/2021</a></td></tr>,\n",
       " <tr><td>1/18/2021</td><td>Monday</td><td><a href=\"/Rate/USD/SGD/1-18-2021\">1.33131</a> SGD</td><td class=\"text-narrow-screen-hidden\"><a href=\"/Rate/USD/SGD/1-18-2021\">USD SGD rate for 1/18/2021</a></td></tr>,\n",
       " <tr><td>1/15/2021</td><td>Friday</td><td><a href=\"/Rate/USD/SGD/1-15-2021\">1.33119</a> SGD</td><td class=\"text-narrow-screen-hidden\"><a href=\"/Rate/USD/SGD/1-15-2021\">USD SGD rate for 1/15/2021</a></td></tr>,\n",
       " <tr><td>1/14/2021</td><td>Thursday</td><td><a href=\"/Rate/USD/SGD/1-14-2021\">1.32416</a> SGD</td><td class=\"text-narrow-screen-hidden\"><a href=\"/Rate/USD/SGD/1-14-2021\">USD SGD rate for 1/14/2021</a></td></tr>,\n",
       " <tr><td>1/13/2021</td><td>Wednesday</td><td><a href=\"/Rate/USD/SGD/1-13-2021\">1.32627</a> SGD</td><td class=\"text-narrow-screen-hidden\"><a href=\"/Rate/USD/SGD/1-13-2021\">USD SGD rate for 1/13/2021</a></td></tr>,\n",
       " <tr><td>1/12/2021</td><td>Tuesday</td><td><a href=\"/Rate/USD/SGD/1-12-2021\">1.32312</a> SGD</td><td class=\"text-narrow-screen-hidden\"><a href=\"/Rate/USD/SGD/1-12-2021\">USD SGD rate for 1/12/2021</a></td></tr>,\n",
       " <tr><td>1/11/2021</td><td>Monday</td><td><a href=\"/Rate/USD/SGD/1-11-2021\">1.33013</a> SGD</td><td class=\"text-narrow-screen-hidden\"><a href=\"/Rate/USD/SGD/1-11-2021\">USD SGD rate for 1/11/2021</a></td></tr>,\n",
       " <tr><td>1/8/2021</td><td>Friday</td><td><a href=\"/Rate/USD/SGD/1-8-2021\">1.32504</a> SGD</td><td class=\"text-narrow-screen-hidden\"><a href=\"/Rate/USD/SGD/1-8-2021\">USD SGD rate for 1/8/2021</a></td></tr>,\n",
       " <tr><td>1/7/2021</td><td>Thursday</td><td><a href=\"/Rate/USD/SGD/1-7-2021\">1.32454</a> SGD</td><td class=\"text-narrow-screen-hidden\"><a href=\"/Rate/USD/SGD/1-7-2021\">USD SGD rate for 1/7/2021</a></td></tr>,\n",
       " <tr><td>1/6/2021</td><td>Wednesday</td><td><a href=\"/Rate/USD/SGD/1-6-2021\">1.31834</a> SGD</td><td class=\"text-narrow-screen-hidden\"><a href=\"/Rate/USD/SGD/1-6-2021\">USD SGD rate for 1/6/2021</a></td></tr>,\n",
       " <tr><td>1/5/2021</td><td>Tuesday</td><td><a href=\"/Rate/USD/SGD/1-5-2021\">1.31759</a> SGD</td><td class=\"text-narrow-screen-hidden\"><a href=\"/Rate/USD/SGD/1-5-2021\">USD SGD rate for 1/5/2021</a></td></tr>,\n",
       " <tr><td>1/4/2021</td><td>Monday</td><td><a href=\"/Rate/USD/SGD/1-4-2021\">1.31978</a> SGD</td><td class=\"text-narrow-screen-hidden\"><a href=\"/Rate/USD/SGD/1-4-2021\">USD SGD rate for 1/4/2021</a></td></tr>,\n",
       " <tr><td>1/1/2021</td><td>Friday</td><td><a href=\"/Rate/USD/SGD/1-1-2021\">1.32681</a> SGD</td><td class=\"text-narrow-screen-hidden\"><a href=\"/Rate/USD/SGD/1-1-2021\">USD SGD rate for 1/1/2021</a></td></tr>,\n",
       " <tr><td>12/31/2020</td><td>Thursday</td><td><a href=\"/Rate/USD/SGD/12-31-2020\">1.32148</a> SGD</td><td class=\"text-narrow-screen-hidden\"><a href=\"/Rate/USD/SGD/12-31-2020\">USD SGD rate for 12/31/2020</a></td></tr>,\n",
       " <tr><td>12/30/2020</td><td>Wednesday</td><td><a href=\"/Rate/USD/SGD/12-30-2020\">1.32349</a> SGD</td><td class=\"text-narrow-screen-hidden\"><a href=\"/Rate/USD/SGD/12-30-2020\">USD SGD rate for 12/30/2020</a></td></tr>,\n",
       " <tr><td>12/29/2020</td><td>Tuesday</td><td><a href=\"/Rate/USD/SGD/12-29-2020\">1.32721</a> SGD</td><td class=\"text-narrow-screen-hidden\"><a href=\"/Rate/USD/SGD/12-29-2020\">USD SGD rate for 12/29/2020</a></td></tr>,\n",
       " <tr><td>12/28/2020</td><td>Monday</td><td><a href=\"/Rate/USD/SGD/12-28-2020\">1.33071</a> SGD</td><td class=\"text-narrow-screen-hidden\"><a href=\"/Rate/USD/SGD/12-28-2020\">USD SGD rate for 12/28/2020</a></td></tr>,\n",
       " <tr><td>12/25/2020</td><td>Friday</td><td><a href=\"/Rate/USD/SGD/12-25-2020\">1.33945</a> SGD</td><td class=\"text-narrow-screen-hidden\"><a href=\"/Rate/USD/SGD/12-25-2020\">USD SGD rate for 12/25/2020</a></td></tr>,\n",
       " <tr><td>12/24/2020</td><td>Thursday</td><td><a href=\"/Rate/USD/SGD/12-24-2020\">1.32915</a> SGD</td><td class=\"text-narrow-screen-hidden\"><a href=\"/Rate/USD/SGD/12-24-2020\">USD SGD rate for 12/24/2020</a></td></tr>,\n",
       " <tr><td>12/23/2020</td><td>Wednesday</td><td><a href=\"/Rate/USD/SGD/12-23-2020\">1.33121</a> SGD</td><td class=\"text-narrow-screen-hidden\"><a href=\"/Rate/USD/SGD/12-23-2020\">USD SGD rate for 12/23/2020</a></td></tr>,\n",
       " <tr><td>12/22/2020</td><td>Tuesday</td><td><a href=\"/Rate/USD/SGD/12-22-2020\">1.33634</a> SGD</td><td class=\"text-narrow-screen-hidden\"><a href=\"/Rate/USD/SGD/12-22-2020\">USD SGD rate for 12/22/2020</a></td></tr>,\n",
       " <tr><td>12/21/2020</td><td>Monday</td><td><a href=\"/Rate/USD/SGD/12-21-2020\">1.33165</a> SGD</td><td class=\"text-narrow-screen-hidden\"><a href=\"/Rate/USD/SGD/12-21-2020\">USD SGD rate for 12/21/2020</a></td></tr>,\n",
       " <tr><td>12/18/2020</td><td>Friday</td><td><a href=\"/Rate/USD/SGD/12-18-2020\">1.32755</a> SGD</td><td class=\"text-narrow-screen-hidden\"><a href=\"/Rate/USD/SGD/12-18-2020\">USD SGD rate for 12/18/2020</a></td></tr>,\n",
       " <tr><td>12/17/2020</td><td>Thursday</td><td><a href=\"/Rate/USD/SGD/12-17-2020\">1.32626</a> SGD</td><td class=\"text-narrow-screen-hidden\"><a href=\"/Rate/USD/SGD/12-17-2020\">USD SGD rate for 12/17/2020</a></td></tr>,\n",
       " <tr><td>12/16/2020</td><td>Wednesday</td><td><a href=\"/Rate/USD/SGD/12-16-2020\">1.32949</a> SGD</td><td class=\"text-narrow-screen-hidden\"><a href=\"/Rate/USD/SGD/12-16-2020\">USD SGD rate for 12/16/2020</a></td></tr>,\n",
       " <tr><td>12/15/2020</td><td>Tuesday</td><td><a href=\"/Rate/USD/SGD/12-15-2020\">1.33298</a> SGD</td><td class=\"text-narrow-screen-hidden\"><a href=\"/Rate/USD/SGD/12-15-2020\">USD SGD rate for 12/15/2020</a></td></tr>,\n",
       " <tr><td>12/14/2020</td><td>Monday</td><td><a href=\"/Rate/USD/SGD/12-14-2020\">1.33389</a> SGD</td><td class=\"text-narrow-screen-hidden\"><a href=\"/Rate/USD/SGD/12-14-2020\">USD SGD rate for 12/14/2020</a></td></tr>,\n",
       " <tr><td>12/11/2020</td><td>Friday</td><td><a href=\"/Rate/USD/SGD/12-11-2020\">1.33665</a> SGD</td><td class=\"text-narrow-screen-hidden\"><a href=\"/Rate/USD/SGD/12-11-2020\">USD SGD rate for 12/11/2020</a></td></tr>,\n",
       " <tr><td>12/10/2020</td><td>Thursday</td><td><a href=\"/Rate/USD/SGD/12-10-2020\">1.33590</a> SGD</td><td class=\"text-narrow-screen-hidden\"><a href=\"/Rate/USD/SGD/12-10-2020\">USD SGD rate for 12/10/2020</a></td></tr>,\n",
       " <tr><td>12/9/2020</td><td>Wednesday</td><td><a href=\"/Rate/USD/SGD/12-9-2020\">1.33741</a> SGD</td><td class=\"text-narrow-screen-hidden\"><a href=\"/Rate/USD/SGD/12-9-2020\">USD SGD rate for 12/9/2020</a></td></tr>,\n",
       " <tr><td>12/8/2020</td><td>Tuesday</td><td><a href=\"/Rate/USD/SGD/12-8-2020\">1.33768</a> SGD</td><td class=\"text-narrow-screen-hidden\"><a href=\"/Rate/USD/SGD/12-8-2020\">USD SGD rate for 12/8/2020</a></td></tr>,\n",
       " <tr><td>12/7/2020</td><td>Monday</td><td><a href=\"/Rate/USD/SGD/12-7-2020\">1.33692</a> SGD</td><td class=\"text-narrow-screen-hidden\"><a href=\"/Rate/USD/SGD/12-7-2020\">USD SGD rate for 12/7/2020</a></td></tr>,\n",
       " <tr><td>12/4/2020</td><td>Friday</td><td><a href=\"/Rate/USD/SGD/12-4-2020\">1.33565</a> SGD</td><td class=\"text-narrow-screen-hidden\"><a href=\"/Rate/USD/SGD/12-4-2020\">USD SGD rate for 12/4/2020</a></td></tr>,\n",
       " <tr><td>12/3/2020</td><td>Thursday</td><td><a href=\"/Rate/USD/SGD/12-3-2020\">1.33389</a> SGD</td><td class=\"text-narrow-screen-hidden\"><a href=\"/Rate/USD/SGD/12-3-2020\">USD SGD rate for 12/3/2020</a></td></tr>,\n",
       " <tr><td>12/2/2020</td><td>Wednesday</td><td><a href=\"/Rate/USD/SGD/12-2-2020\">1.33801</a> SGD</td><td class=\"text-narrow-screen-hidden\"><a href=\"/Rate/USD/SGD/12-2-2020\">USD SGD rate for 12/2/2020</a></td></tr>,\n",
       " <tr><td>12/1/2020</td><td>Tuesday</td><td><a href=\"/Rate/USD/SGD/12-1-2020\">1.33755</a> SGD</td><td class=\"text-narrow-screen-hidden\"><a href=\"/Rate/USD/SGD/12-1-2020\">USD SGD rate for 12/1/2020</a></td></tr>,\n",
       " <tr><td>11/30/2020</td><td>Monday</td><td><a href=\"/Rate/USD/SGD/11-30-2020\">1.34104</a> SGD</td><td class=\"text-narrow-screen-hidden\"><a href=\"/Rate/USD/SGD/11-30-2020\">USD SGD rate for 11/30/2020</a></td></tr>,\n",
       " <tr><td>11/27/2020</td><td>Friday</td><td><a href=\"/Rate/USD/SGD/11-27-2020\">1.33811</a> SGD</td><td class=\"text-narrow-screen-hidden\"><a href=\"/Rate/USD/SGD/11-27-2020\">USD SGD rate for 11/27/2020</a></td></tr>,\n",
       " <tr><td>11/26/2020</td><td>Thursday</td><td><a href=\"/Rate/USD/SGD/11-26-2020\">1.33887</a> SGD</td><td class=\"text-narrow-screen-hidden\"><a href=\"/Rate/USD/SGD/11-26-2020\">USD SGD rate for 11/26/2020</a></td></tr>,\n",
       " <tr><td>11/25/2020</td><td>Wednesday</td><td><a href=\"/Rate/USD/SGD/11-25-2020\">1.33997</a> SGD</td><td class=\"text-narrow-screen-hidden\"><a href=\"/Rate/USD/SGD/11-25-2020\">USD SGD rate for 11/25/2020</a></td></tr>,\n",
       " <tr><td>11/24/2020</td><td>Tuesday</td><td><a href=\"/Rate/USD/SGD/11-24-2020\">1.34201</a> SGD</td><td class=\"text-narrow-screen-hidden\"><a href=\"/Rate/USD/SGD/11-24-2020\">USD SGD rate for 11/24/2020</a></td></tr>,\n",
       " <tr><td>11/23/2020</td><td>Monday</td><td><a href=\"/Rate/USD/SGD/11-23-2020\">1.34461</a> SGD</td><td class=\"text-narrow-screen-hidden\"><a href=\"/Rate/USD/SGD/11-23-2020\">USD SGD rate for 11/23/2020</a></td></tr>,\n",
       " <tr><td>11/20/2020</td><td>Friday</td><td><a href=\"/Rate/USD/SGD/11-20-2020\">1.34341</a> SGD</td><td class=\"text-narrow-screen-hidden\"><a href=\"/Rate/USD/SGD/11-20-2020\">USD SGD rate for 11/20/2020</a></td></tr>,\n",
       " <tr><td>11/19/2020</td><td>Thursday</td><td><a href=\"/Rate/USD/SGD/11-19-2020\">1.34509</a> SGD</td><td class=\"text-narrow-screen-hidden\"><a href=\"/Rate/USD/SGD/11-19-2020\">USD SGD rate for 11/19/2020</a></td></tr>,\n",
       " <tr><td>11/18/2020</td><td>Wednesday</td><td><a href=\"/Rate/USD/SGD/11-18-2020\">1.34236</a> SGD</td><td class=\"text-narrow-screen-hidden\"><a href=\"/Rate/USD/SGD/11-18-2020\">USD SGD rate for 11/18/2020</a></td></tr>,\n",
       " <tr><td>11/17/2020</td><td>Tuesday</td><td><a href=\"/Rate/USD/SGD/11-17-2020\">1.34234</a> SGD</td><td class=\"text-narrow-screen-hidden\"><a href=\"/Rate/USD/SGD/11-17-2020\">USD SGD rate for 11/17/2020</a></td></tr>,\n",
       " <tr><td>11/16/2020</td><td>Monday</td><td><a href=\"/Rate/USD/SGD/11-16-2020\">1.34531</a> SGD</td><td class=\"text-narrow-screen-hidden\"><a href=\"/Rate/USD/SGD/11-16-2020\">USD SGD rate for 11/16/2020</a></td></tr>,\n",
       " <tr><td>11/13/2020</td><td>Friday</td><td><a href=\"/Rate/USD/SGD/11-13-2020\">1.34753</a> SGD</td><td class=\"text-narrow-screen-hidden\"><a href=\"/Rate/USD/SGD/11-13-2020\">USD SGD rate for 11/13/2020</a></td></tr>,\n",
       " <tr><td>11/12/2020</td><td>Thursday</td><td><a href=\"/Rate/USD/SGD/11-12-2020\">1.34985</a> SGD</td><td class=\"text-narrow-screen-hidden\"><a href=\"/Rate/USD/SGD/11-12-2020\">USD SGD rate for 11/12/2020</a></td></tr>,\n",
       " <tr><td>11/11/2020</td><td>Wednesday</td><td><a href=\"/Rate/USD/SGD/11-11-2020\">1.34918</a> SGD</td><td class=\"text-narrow-screen-hidden\"><a href=\"/Rate/USD/SGD/11-11-2020\">USD SGD rate for 11/11/2020</a></td></tr>,\n",
       " <tr><td>11/10/2020</td><td>Tuesday</td><td><a href=\"/Rate/USD/SGD/11-10-2020\">1.34843</a> SGD</td><td class=\"text-narrow-screen-hidden\"><a href=\"/Rate/USD/SGD/11-10-2020\">USD SGD rate for 11/10/2020</a></td></tr>,\n",
       " <tr><td>11/9/2020</td><td>Monday</td><td><a href=\"/Rate/USD/SGD/11-9-2020\">1.34818</a> SGD</td><td class=\"text-narrow-screen-hidden\"><a href=\"/Rate/USD/SGD/11-9-2020\">USD SGD rate for 11/9/2020</a></td></tr>,\n",
       " <tr><td>11/6/2020</td><td>Friday</td><td><a href=\"/Rate/USD/SGD/11-6-2020\">1.34847</a> SGD</td><td class=\"text-narrow-screen-hidden\"><a href=\"/Rate/USD/SGD/11-6-2020\">USD SGD rate for 11/6/2020</a></td></tr>,\n",
       " <tr><td>11/5/2020</td><td>Thursday</td><td><a href=\"/Rate/USD/SGD/11-5-2020\">1.35004</a> SGD</td><td class=\"text-narrow-screen-hidden\"><a href=\"/Rate/USD/SGD/11-5-2020\">USD SGD rate for 11/5/2020</a></td></tr>,\n",
       " <tr><td>11/4/2020</td><td>Wednesday</td><td><a href=\"/Rate/USD/SGD/11-4-2020\">1.35813</a> SGD</td><td class=\"text-narrow-screen-hidden\"><a href=\"/Rate/USD/SGD/11-4-2020\">USD SGD rate for 11/4/2020</a></td></tr>,\n",
       " <tr><td>11/3/2020</td><td>Tuesday</td><td><a href=\"/Rate/USD/SGD/11-3-2020\">1.36037</a> SGD</td><td class=\"text-narrow-screen-hidden\"><a href=\"/Rate/USD/SGD/11-3-2020\">USD SGD rate for 11/3/2020</a></td></tr>,\n",
       " <tr><td>11/2/2020</td><td>Monday</td><td><a href=\"/Rate/USD/SGD/11-2-2020\">1.36549</a> SGD</td><td class=\"text-narrow-screen-hidden\"><a href=\"/Rate/USD/SGD/11-2-2020\">USD SGD rate for 11/2/2020</a></td></tr>,\n",
       " <tr><td>10/30/2020</td><td>Friday</td><td><a href=\"/Rate/USD/SGD/10-30-2020\">1.36629</a> SGD</td><td class=\"text-narrow-screen-hidden\"><a href=\"/Rate/USD/SGD/10-30-2020\">USD SGD rate for 10/30/2020</a></td></tr>,\n",
       " <tr><td>10/29/2020</td><td>Thursday</td><td><a href=\"/Rate/USD/SGD/10-29-2020\">1.36754</a> SGD</td><td class=\"text-narrow-screen-hidden\"><a href=\"/Rate/USD/SGD/10-29-2020\">USD SGD rate for 10/29/2020</a></td></tr>,\n",
       " <tr><td>10/28/2020</td><td>Wednesday</td><td><a href=\"/Rate/USD/SGD/10-28-2020\">1.36527</a> SGD</td><td class=\"text-narrow-screen-hidden\"><a href=\"/Rate/USD/SGD/10-28-2020\">USD SGD rate for 10/28/2020</a></td></tr>,\n",
       " <tr><td>10/27/2020</td><td>Tuesday</td><td><a href=\"/Rate/USD/SGD/10-27-2020\">1.36066</a> SGD</td><td class=\"text-narrow-screen-hidden\"><a href=\"/Rate/USD/SGD/10-27-2020\">USD SGD rate for 10/27/2020</a></td></tr>,\n",
       " <tr><td>10/26/2020</td><td>Monday</td><td><a href=\"/Rate/USD/SGD/10-26-2020\">1.36133</a> SGD</td><td class=\"text-narrow-screen-hidden\"><a href=\"/Rate/USD/SGD/10-26-2020\">USD SGD rate for 10/26/2020</a></td></tr>,\n",
       " <tr><td>10/23/2020</td><td>Friday</td><td><a href=\"/Rate/USD/SGD/10-23-2020\">1.35803</a> SGD</td><td class=\"text-narrow-screen-hidden\"><a href=\"/Rate/USD/SGD/10-23-2020\">USD SGD rate for 10/23/2020</a></td></tr>,\n",
       " <tr><td>10/22/2020</td><td>Thursday</td><td><a href=\"/Rate/USD/SGD/10-22-2020\">1.35719</a> SGD</td><td class=\"text-narrow-screen-hidden\"><a href=\"/Rate/USD/SGD/10-22-2020\">USD SGD rate for 10/22/2020</a></td></tr>,\n",
       " <tr><td>10/21/2020</td><td>Wednesday</td><td><a href=\"/Rate/USD/SGD/10-21-2020\">1.35454</a> SGD</td><td class=\"text-narrow-screen-hidden\"><a href=\"/Rate/USD/SGD/10-21-2020\">USD SGD rate for 10/21/2020</a></td></tr>,\n",
       " <tr><td>10/20/2020</td><td>Tuesday</td><td><a href=\"/Rate/USD/SGD/10-20-2020\">1.35707</a> SGD</td><td class=\"text-narrow-screen-hidden\"><a href=\"/Rate/USD/SGD/10-20-2020\">USD SGD rate for 10/20/2020</a></td></tr>,\n",
       " <tr><td>10/19/2020</td><td>Monday</td><td><a href=\"/Rate/USD/SGD/10-19-2020\">1.35821</a> SGD</td><td class=\"text-narrow-screen-hidden\"><a href=\"/Rate/USD/SGD/10-19-2020\">USD SGD rate for 10/19/2020</a></td></tr>,\n",
       " <tr><td>10/16/2020</td><td>Friday</td><td><a href=\"/Rate/USD/SGD/10-16-2020\">1.35852</a> SGD</td><td class=\"text-narrow-screen-hidden\"><a href=\"/Rate/USD/SGD/10-16-2020\">USD SGD rate for 10/16/2020</a></td></tr>,\n",
       " <tr><td>10/15/2020</td><td>Thursday</td><td><a href=\"/Rate/USD/SGD/10-15-2020\">1.36019</a> SGD</td><td class=\"text-narrow-screen-hidden\"><a href=\"/Rate/USD/SGD/10-15-2020\">USD SGD rate for 10/15/2020</a></td></tr>,\n",
       " <tr><td>10/14/2020</td><td>Wednesday</td><td><a href=\"/Rate/USD/SGD/10-14-2020\">1.35717</a> SGD</td><td class=\"text-narrow-screen-hidden\"><a href=\"/Rate/USD/SGD/10-14-2020\">USD SGD rate for 10/14/2020</a></td></tr>,\n",
       " <tr><td>10/13/2020</td><td>Tuesday</td><td><a href=\"/Rate/USD/SGD/10-13-2020\">1.35961</a> SGD</td><td class=\"text-narrow-screen-hidden\"><a href=\"/Rate/USD/SGD/10-13-2020\">USD SGD rate for 10/13/2020</a></td></tr>,\n",
       " <tr><td>10/12/2020</td><td>Monday</td><td><a href=\"/Rate/USD/SGD/10-12-2020\">1.35712</a> SGD</td><td class=\"text-narrow-screen-hidden\"><a href=\"/Rate/USD/SGD/10-12-2020\">USD SGD rate for 10/12/2020</a></td></tr>,\n",
       " <tr><td>10/9/2020</td><td>Friday</td><td><a href=\"/Rate/USD/SGD/10-9-2020\">1.35312</a> SGD</td><td class=\"text-narrow-screen-hidden\"><a href=\"/Rate/USD/SGD/10-9-2020\">USD SGD rate for 10/9/2020</a></td></tr>,\n",
       " <tr><td>10/8/2020</td><td>Thursday</td><td><a href=\"/Rate/USD/SGD/10-8-2020\">1.35872</a> SGD</td><td class=\"text-narrow-screen-hidden\"><a href=\"/Rate/USD/SGD/10-8-2020\">USD SGD rate for 10/8/2020</a></td></tr>,\n",
       " <tr><td>10/7/2020</td><td>Wednesday</td><td><a href=\"/Rate/USD/SGD/10-7-2020\">1.35938</a> SGD</td><td class=\"text-narrow-screen-hidden\"><a href=\"/Rate/USD/SGD/10-7-2020\">USD SGD rate for 10/7/2020</a></td></tr>,\n",
       " <tr><td>10/6/2020</td><td>Tuesday</td><td><a href=\"/Rate/USD/SGD/10-6-2020\">1.36318</a> SGD</td><td class=\"text-narrow-screen-hidden\"><a href=\"/Rate/USD/SGD/10-6-2020\">USD SGD rate for 10/6/2020</a></td></tr>,\n",
       " <tr><td>10/5/2020</td><td>Monday</td><td><a href=\"/Rate/USD/SGD/10-5-2020\">1.36084</a> SGD</td><td class=\"text-narrow-screen-hidden\"><a href=\"/Rate/USD/SGD/10-5-2020\">USD SGD rate for 10/5/2020</a></td></tr>,\n",
       " <tr><td>10/2/2020</td><td>Friday</td><td><a href=\"/Rate/USD/SGD/10-2-2020\">1.36374</a> SGD</td><td class=\"text-narrow-screen-hidden\"><a href=\"/Rate/USD/SGD/10-2-2020\">USD SGD rate for 10/2/2020</a></td></tr>,\n",
       " <tr><td>10/1/2020</td><td>Thursday</td><td><a href=\"/Rate/USD/SGD/10-1-2020\">1.36322</a> SGD</td><td class=\"text-narrow-screen-hidden\"><a href=\"/Rate/USD/SGD/10-1-2020\">USD SGD rate for 10/1/2020</a></td></tr>,\n",
       " <tr><td>9/30/2020</td><td>Wednesday</td><td><a href=\"/Rate/USD/SGD/9-30-2020\">1.36542</a> SGD</td><td class=\"text-narrow-screen-hidden\"><a href=\"/Rate/USD/SGD/9-30-2020\">USD SGD rate for 9/30/2020</a></td></tr>,\n",
       " <tr><td>9/29/2020</td><td>Tuesday</td><td><a href=\"/Rate/USD/SGD/9-29-2020\">1.36879</a> SGD</td><td class=\"text-narrow-screen-hidden\"><a href=\"/Rate/USD/SGD/9-29-2020\">USD SGD rate for 9/29/2020</a></td></tr>,\n",
       " <tr><td>9/28/2020</td><td>Monday</td><td><a href=\"/Rate/USD/SGD/9-28-2020\">1.37287</a> SGD</td><td class=\"text-narrow-screen-hidden\"><a href=\"/Rate/USD/SGD/9-28-2020\">USD SGD rate for 9/28/2020</a></td></tr>,\n",
       " <tr><td>9/27/2020</td><td>Sunday</td><td><a href=\"/Rate/USD/SGD/9-27-2020\">1.37721</a> SGD</td><td class=\"text-narrow-screen-hidden\"><a href=\"/Rate/USD/SGD/9-27-2020\">USD SGD rate for 9/27/2020</a></td></tr>,\n",
       " <tr><td>9/25/2020</td><td>Friday</td><td><a href=\"/Rate/USD/SGD/9-25-2020\">1.37732</a> SGD</td><td class=\"text-narrow-screen-hidden\"><a href=\"/Rate/USD/SGD/9-25-2020\">USD SGD rate for 9/25/2020</a></td></tr>,\n",
       " <tr><td>9/24/2020</td><td>Thursday</td><td><a href=\"/Rate/USD/SGD/9-24-2020\">1.37609</a> SGD</td><td class=\"text-narrow-screen-hidden\"><a href=\"/Rate/USD/SGD/9-24-2020\">USD SGD rate for 9/24/2020</a></td></tr>,\n",
       " <tr><td>9/23/2020</td><td>Wednesday</td><td><a href=\"/Rate/USD/SGD/9-23-2020\">1.37297</a> SGD</td><td class=\"text-narrow-screen-hidden\"><a href=\"/Rate/USD/SGD/9-23-2020\">USD SGD rate for 9/23/2020</a></td></tr>,\n",
       " <tr><td>9/22/2020</td><td>Tuesday</td><td><a href=\"/Rate/USD/SGD/9-22-2020\">1.36500</a> SGD</td><td class=\"text-narrow-screen-hidden\"><a href=\"/Rate/USD/SGD/9-22-2020\">USD SGD rate for 9/22/2020</a></td></tr>,\n",
       " <tr><td>9/21/2020</td><td>Monday</td><td><a href=\"/Rate/USD/SGD/9-21-2020\">1.36213</a> SGD</td><td class=\"text-narrow-screen-hidden\"><a href=\"/Rate/USD/SGD/9-21-2020\">USD SGD rate for 9/21/2020</a></td></tr>,\n",
       " <tr><td>9/20/2020</td><td>Sunday</td><td><a href=\"/Rate/USD/SGD/9-20-2020\">1.35865</a> SGD</td><td class=\"text-narrow-screen-hidden\"><a href=\"/Rate/USD/SGD/9-20-2020\">USD SGD rate for 9/20/2020</a></td></tr>,\n",
       " <tr><td>9/18/2020</td><td>Friday</td><td><a href=\"/Rate/USD/SGD/9-18-2020\">1.35980</a> SGD</td><td class=\"text-narrow-screen-hidden\"><a href=\"/Rate/USD/SGD/9-18-2020\">USD SGD rate for 9/18/2020</a></td></tr>]"
      ]
     },
     "execution_count": 7,
     "metadata": {},
     "output_type": "execute_result"
    }
   ],
   "source": [
    "tr = table.find_all('tr')\n",
    "tr\n",
    " # just call 2 founded tr"
   ]
  },
  {
   "cell_type": "code",
   "execution_count": 8,
   "metadata": {},
   "outputs": [
    {
     "data": {
      "text/plain": [
       "[['3/17/2021', 'Wednesday', '1.34027 SGD', 'USD SGD rate for 3/17/2021'],\n",
       " ['3/16/2021', 'Tuesday', '1.34522 SGD', 'USD SGD rate for 3/16/2021'],\n",
       " ['3/15/2021', 'Monday', '1.34602 SGD', 'USD SGD rate for 3/15/2021'],\n",
       " ['3/12/2021', 'Friday', '1.34493 SGD', 'USD SGD rate for 3/12/2021'],\n",
       " ['3/11/2021', 'Thursday', '1.33970 SGD', 'USD SGD rate for 3/11/2021']]"
      ]
     },
     "execution_count": 8,
     "metadata": {},
     "output_type": "execute_result"
    }
   ],
   "source": [
    "temp = []\n",
    "for row in tr:\n",
    "    tds = row.find_all('td')\n",
    "    try:\n",
    "        date = tds[0].text\n",
    "        day = tds[1].text\n",
    "        rate = tds[2].text\n",
    "        desc = tds[3].text\n",
    "        temp.append([date , day, rate, desc])\n",
    "    except:\n",
    "        pass\n",
    "\n",
    "temp[:5]"
   ]
  },
  {
   "cell_type": "markdown",
   "metadata": {},
   "source": [
    "## Finding the right key to scrap the data & Extracting the right information"
   ]
  },
  {
   "cell_type": "markdown",
   "metadata": {},
   "source": [
    "Find the key and put the key into the `.find()` Put all the exploring the right key at this cell."
   ]
  },
  {
   "cell_type": "code",
   "execution_count": 9,
   "metadata": {
    "scrolled": false
   },
   "outputs": [
    {
     "data": {
      "text/plain": [
       "[['9/18/2020', 'Friday', '1.35980 SGD', 'USD SGD rate for 9/18/2020'],\n",
       " ['9/20/2020', 'Sunday', '1.35865 SGD', 'USD SGD rate for 9/20/2020'],\n",
       " ['9/21/2020', 'Monday', '1.36213 SGD', 'USD SGD rate for 9/21/2020'],\n",
       " ['9/22/2020', 'Tuesday', '1.36500 SGD', 'USD SGD rate for 9/22/2020'],\n",
       " ['9/23/2020', 'Wednesday', '1.37297 SGD', 'USD SGD rate for 9/23/2020'],\n",
       " ['9/24/2020', 'Thursday', '1.37609 SGD', 'USD SGD rate for 9/24/2020'],\n",
       " ['9/25/2020', 'Friday', '1.37732 SGD', 'USD SGD rate for 9/25/2020'],\n",
       " ['9/27/2020', 'Sunday', '1.37721 SGD', 'USD SGD rate for 9/27/2020'],\n",
       " ['9/28/2020', 'Monday', '1.37287 SGD', 'USD SGD rate for 9/28/2020'],\n",
       " ['9/29/2020', 'Tuesday', '1.36879 SGD', 'USD SGD rate for 9/29/2020']]"
      ]
     },
     "execution_count": 9,
     "metadata": {},
     "output_type": "execute_result"
    }
   ],
   "source": [
    "temp = temp[::-1]\n",
    "temp[:10]"
   ]
  },
  {
   "cell_type": "markdown",
   "metadata": {},
   "source": [
    "## Creating data frame & Data wrangling"
   ]
  },
  {
   "cell_type": "markdown",
   "metadata": {},
   "source": [
    "Put the array into dataframe"
   ]
  },
  {
   "cell_type": "code",
   "execution_count": 10,
   "metadata": {
    "ExecuteTime": {
     "end_time": "2020-01-13T05:12:41.517372Z",
     "start_time": "2020-01-13T05:12:29.130015Z"
    }
   },
   "outputs": [
    {
     "data": {
      "text/html": [
       "<div>\n",
       "<style scoped>\n",
       "    .dataframe tbody tr th:only-of-type {\n",
       "        vertical-align: middle;\n",
       "    }\n",
       "\n",
       "    .dataframe tbody tr th {\n",
       "        vertical-align: top;\n",
       "    }\n",
       "\n",
       "    .dataframe thead th {\n",
       "        text-align: right;\n",
       "    }\n",
       "</style>\n",
       "<table border=\"1\" class=\"dataframe\">\n",
       "  <thead>\n",
       "    <tr style=\"text-align: right;\">\n",
       "      <th></th>\n",
       "      <th>day</th>\n",
       "      <th>rate</th>\n",
       "      <th>desc</th>\n",
       "    </tr>\n",
       "    <tr>\n",
       "      <th>date</th>\n",
       "      <th></th>\n",
       "      <th></th>\n",
       "      <th></th>\n",
       "    </tr>\n",
       "  </thead>\n",
       "  <tbody>\n",
       "    <tr>\n",
       "      <th>9/18/2020</th>\n",
       "      <td>Friday</td>\n",
       "      <td>1.35980 SGD</td>\n",
       "      <td>USD SGD rate for 9/18/2020</td>\n",
       "    </tr>\n",
       "    <tr>\n",
       "      <th>9/20/2020</th>\n",
       "      <td>Sunday</td>\n",
       "      <td>1.35865 SGD</td>\n",
       "      <td>USD SGD rate for 9/20/2020</td>\n",
       "    </tr>\n",
       "    <tr>\n",
       "      <th>9/21/2020</th>\n",
       "      <td>Monday</td>\n",
       "      <td>1.36213 SGD</td>\n",
       "      <td>USD SGD rate for 9/21/2020</td>\n",
       "    </tr>\n",
       "    <tr>\n",
       "      <th>9/22/2020</th>\n",
       "      <td>Tuesday</td>\n",
       "      <td>1.36500 SGD</td>\n",
       "      <td>USD SGD rate for 9/22/2020</td>\n",
       "    </tr>\n",
       "    <tr>\n",
       "      <th>9/23/2020</th>\n",
       "      <td>Wednesday</td>\n",
       "      <td>1.37297 SGD</td>\n",
       "      <td>USD SGD rate for 9/23/2020</td>\n",
       "    </tr>\n",
       "  </tbody>\n",
       "</table>\n",
       "</div>"
      ],
      "text/plain": [
       "                 day         rate                        desc\n",
       "date                                                         \n",
       "9/18/2020     Friday  1.35980 SGD  USD SGD rate for 9/18/2020\n",
       "9/20/2020     Sunday  1.35865 SGD  USD SGD rate for 9/20/2020\n",
       "9/21/2020     Monday  1.36213 SGD  USD SGD rate for 9/21/2020\n",
       "9/22/2020    Tuesday  1.36500 SGD  USD SGD rate for 9/22/2020\n",
       "9/23/2020  Wednesday  1.37297 SGD  USD SGD rate for 9/23/2020"
      ]
     },
     "execution_count": 10,
     "metadata": {},
     "output_type": "execute_result"
    }
   ],
   "source": [
    "import pandas as pd\n",
    "\n",
    "df = pd.DataFrame(temp, columns = ('date','day','rate','desc')).set_index('date')\n",
    "df.head()"
   ]
  },
  {
   "cell_type": "markdown",
   "metadata": {},
   "source": [
    "### Implementing your webscrapping to the flask dashboard\n",
    "\n",
    "- Copy paste all of your web scrapping process to the desired position on the `app.py`\n",
    "- Change the title of the dasboard at `index.html`"
   ]
  },
  {
   "cell_type": "markdown",
   "metadata": {},
   "source": [
    "## Finishing This Notebook with Your Analysis and Conclusion\n",
    "\n",
    "First you can do start with making the data visualisation. "
   ]
  },
  {
   "cell_type": "code",
   "execution_count": 15,
   "metadata": {
    "ExecuteTime": {
     "end_time": "2020-01-13T05:20:56.208237Z",
     "start_time": "2020-01-13T05:20:56.076043Z"
    }
   },
   "outputs": [
    {
     "name": "stderr",
     "output_type": "stream",
     "text": [
      "C:\\Users\\USER\\miniconda3\\lib\\site-packages\\pandas\\plotting\\_matplotlib\\core.py:1192: UserWarning: FixedFormatter should only be used together with FixedLocator\n",
      "  ax.set_xticklabels(xticklabels)\n"
     ]
    },
    {
     "data": {
      "text/plain": [
       "<AxesSubplot:xlabel='date'>"
      ]
     },
     "execution_count": 15,
     "metadata": {},
     "output_type": "execute_result"
    },
    {
     "data": {
      "image/png": "[encoded data removed]",
      "text/plain": [
       "<Figure size 936x504 with 1 Axes>"
      ]
     },
     "metadata": {
      "needs_background": "light"
     },
     "output_type": "display_data"
    }
   ],
   "source": [
    "# df['rate'] = df['rate'].str.replace(\"SGD\",\"\")\n",
    "# df['rate'] = df['rate'].astype('float64')\n",
    "df.plot(figsize=(13,7))\n",
    "# df['rate'].plot()"
   ]
  },
  {
   "cell_type": "markdown",
   "metadata": {},
   "source": [
    "USD has remained relatively stable in the past few weeks after experiencing a sharp decline from 1.38 to 1.32. \n",
    "In conclusion, SGD is a stable currency and there is not much movement between the two currencies. However, speculators have to be wary of volality due to economic uncertainty."
   ]
  }
 ],
 "metadata": {
  "kernelspec": {
   "display_name": "Python 3",
   "language": "python",
   "name": "python3"
  },
  "language_info": {
   "codemirror_mode": {
    "name": "ipython",
    "version": 3
   },
   "file_extension": ".py",
   "mimetype": "text/x-python",
   "name": "python",
   "nbconvert_exporter": "python",
   "pygments_lexer": "ipython3",
   "version": "3.8.5"
  },
  "toc": {
   "base_numbering": 1,
   "nav_menu": {},
   "number_sections": true,
   "sideBar": true,
   "skip_h1_title": false,
   "title_cell": "Table of Contents",
   "title_sidebar": "Contents",
   "toc_cell": false,
   "toc_position": {},
   "toc_section_display": true,
   "toc_window_display": false
  }
 },
 "nbformat": 4,
 "nbformat_minor": 2
}
